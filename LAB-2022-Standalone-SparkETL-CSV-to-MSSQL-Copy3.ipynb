{
 "cells": [
  {
   "cell_type": "raw",
   "metadata": {},
   "source": [
    "! wget https://storage.googleapis.com/grizzy-lab/LoanStats_web.csv"
   ]
  },
  {
   "cell_type": "raw",
   "metadata": {},
   "source": [
    "! hdfs dfs -put LoanStats_web.csv /rawzone/example/"
   ]
  },
  {
   "cell_type": "code",
   "execution_count": 1,
   "metadata": {},
   "outputs": [
    {
     "name": "stdout",
     "output_type": "stream",
     "text": [
      "Requirement already satisfied: pandas in /home/hadoopuser/anaconda3/lib/python3.6/site-packages\n",
      "Requirement already satisfied: pytz>=2017.2 in /home/hadoopuser/anaconda3/lib/python3.6/site-packages (from pandas)\n",
      "Requirement already satisfied: numpy>=1.15.4 in /home/hadoopuser/anaconda3/lib/python3.6/site-packages (from pandas)\n",
      "Requirement already satisfied: python-dateutil>=2.7.3 in /home/hadoopuser/anaconda3/lib/python3.6/site-packages (from pandas)\n",
      "Requirement already satisfied: six>=1.5 in /home/hadoopuser/anaconda3/lib/python3.6/site-packages (from python-dateutil>=2.7.3->pandas)\n",
      "\u001b[33mYou are using pip version 9.0.1, however version 22.0.4 is available.\n",
      "You should consider upgrading via the 'pip install --upgrade pip' command.\u001b[0m\n"
     ]
    }
   ],
   "source": [
    "! pip install pandas"
   ]
  },
  {
   "cell_type": "code",
   "execution_count": 2,
   "metadata": {
    "collapsed": true
   },
   "outputs": [],
   "source": [
    "import pandas as pd"
   ]
  },
  {
   "cell_type": "code",
   "execution_count": 3,
   "metadata": {
    "collapsed": true
   },
   "outputs": [],
   "source": [
    "pd.set_option('display.max_columns', None)"
   ]
  },
  {
   "cell_type": "code",
   "execution_count": 4,
   "metadata": {
    "collapsed": true
   },
   "outputs": [],
   "source": [
    "pd.set_option('display.max_rows', None)"
   ]
  },
  {
   "cell_type": "code",
   "execution_count": 5,
   "metadata": {
    "collapsed": true
   },
   "outputs": [],
   "source": [
    "import time as t"
   ]
  },
  {
   "cell_type": "code",
   "execution_count": 6,
   "metadata": {
    "collapsed": true
   },
   "outputs": [],
   "source": [
    "start_time = t.time()"
   ]
  },
  {
   "cell_type": "code",
   "execution_count": 7,
   "metadata": {},
   "outputs": [
    {
     "data": {
      "text/plain": [
       "1650075578.6547756"
      ]
     },
     "execution_count": 7,
     "metadata": {},
     "output_type": "execute_result"
    }
   ],
   "source": [
    "start_time"
   ]
  },
  {
   "cell_type": "code",
   "execution_count": 8,
   "metadata": {
    "collapsed": true
   },
   "outputs": [],
   "source": [
    "from pyspark.sql import functions as sparkf\n",
    "from pyspark.sql.types import *"
   ]
  },
  {
   "cell_type": "markdown",
   "metadata": {},
   "source": [
    "# 1. Data Profiling (EDA)"
   ]
  },
  {
   "cell_type": "code",
   "execution_count": 9,
   "metadata": {},
   "outputs": [
    {
     "name": "stdout",
     "output_type": "stream",
     "text": [
      "Picked up JAVA_TOOL_OPTIONS: -Dhttps.protocols=TLSv1.2\n",
      "-rw-r--r--   2 hadoopuser supergroup      1.1 G 2022-04-15 15:51 /rawzone/example/LoanStats_web.csv\n",
      "-rw-r--r--   2 hadoopuser supergroup     45.1 M 2021-12-25 08:59 /rawzone/example/corrected\n",
      "-rw-r--r--   2 hadoopuser supergroup    708.2 M 2021-12-28 09:34 /rawzone/example/kddcup.data\n",
      "-rw-r--r--   2 hadoopuser supergroup      1.3 K 2021-12-28 09:34 /rawzone/example/kddcup.names\n"
     ]
    }
   ],
   "source": [
    "! hdfs dfs -ls -h /rawzone/example/*"
   ]
  },
  {
   "cell_type": "code",
   "execution_count": 10,
   "metadata": {
    "collapsed": true
   },
   "outputs": [],
   "source": [
    "raw_df = spark.read.format('csv').option('header','true').option(\"inferSchema\",'true').option('mode','DROPMALFORMED')\\\n",
    ".load('hdfs://aekanun-hadoop-master:9000/rawzone/example/LoanStats_web.csv')"
   ]
  },
  {
   "cell_type": "code",
   "execution_count": 11,
   "metadata": {},
   "outputs": [
    {
     "data": {
      "text/plain": [
       "9"
      ]
     },
     "execution_count": 11,
     "metadata": {},
     "output_type": "execute_result"
    }
   ],
   "source": [
    "raw_df.rdd.getNumPartitions()"
   ]
  },
  {
   "cell_type": "markdown",
   "metadata": {},
   "source": [
    "#### นับจำนวน Attributes ด้วย .columns"
   ]
  },
  {
   "cell_type": "code",
   "execution_count": 12,
   "metadata": {},
   "outputs": [
    {
     "data": {
      "text/plain": [
       "144"
      ]
     },
     "execution_count": 12,
     "metadata": {},
     "output_type": "execute_result"
    }
   ],
   "source": [
    "len(raw_df.columns)"
   ]
  },
  {
   "cell_type": "markdown",
   "metadata": {},
   "source": [
    "#### นับจำนวน row ด้วย .count()"
   ]
  },
  {
   "cell_type": "code",
   "execution_count": 13,
   "metadata": {},
   "outputs": [
    {
     "data": {
      "text/plain": [
       "1432466"
      ]
     },
     "execution_count": 13,
     "metadata": {},
     "output_type": "execute_result"
    }
   ],
   "source": [
    "raw_df.count()"
   ]
  },
  {
   "cell_type": "markdown",
   "metadata": {},
   "source": [
    "#### ทำ Sub-Columns ด้วย .select()"
   ]
  },
  {
   "cell_type": "code",
   "execution_count": 14,
   "metadata": {
    "collapsed": true
   },
   "outputs": [],
   "source": [
    "selectedAttr_df = raw_df.select(\"loan_amnt\",\"term\",\"int_rate\",\"installment\",\"grade\",\"emp_length\",\\\n",
    "                           \"home_ownership\",\"annual_inc\",\"verification_status\",\"loan_status\",\\\n",
    "                           \"purpose\",\"addr_state\",\"dti\",\"delinq_2yrs\",\"earliest_cr_line\",\\\n",
    "                           \"inq_last_6mths\",\"open_acc\",\"pub_rec\",\"revol_bal\",\"revol_util\",\"total_acc\",\\\n",
    "                           \"last_credit_pull_d\")"
   ]
  },
  {
   "cell_type": "markdown",
   "metadata": {},
   "source": [
    "#### Explore data ด้วย Basic Stats โดยใช้ .describe()"
   ]
  },
  {
   "cell_type": "code",
   "execution_count": 15,
   "metadata": {},
   "outputs": [
    {
     "data": {
      "text/html": [
       "<div>\n",
       "<style scoped>\n",
       "    .dataframe tbody tr th:only-of-type {\n",
       "        vertical-align: middle;\n",
       "    }\n",
       "\n",
       "    .dataframe tbody tr th {\n",
       "        vertical-align: top;\n",
       "    }\n",
       "\n",
       "    .dataframe thead th {\n",
       "        text-align: right;\n",
       "    }\n",
       "</style>\n",
       "<table border=\"1\" class=\"dataframe\">\n",
       "  <thead>\n",
       "    <tr style=\"text-align: right;\">\n",
       "      <th></th>\n",
       "      <th>0</th>\n",
       "      <th>1</th>\n",
       "      <th>2</th>\n",
       "      <th>3</th>\n",
       "      <th>4</th>\n",
       "    </tr>\n",
       "  </thead>\n",
       "  <tbody>\n",
       "    <tr>\n",
       "      <th>summary</th>\n",
       "      <td>count</td>\n",
       "      <td>mean</td>\n",
       "      <td>stddev</td>\n",
       "      <td>min</td>\n",
       "      <td>max</td>\n",
       "    </tr>\n",
       "    <tr>\n",
       "      <th>loan_amnt</th>\n",
       "      <td>1432440</td>\n",
       "      <td>15370.388358325654</td>\n",
       "      <td>9646.026272413876</td>\n",
       "      <td>1000</td>\n",
       "      <td>40000</td>\n",
       "    </tr>\n",
       "    <tr>\n",
       "      <th>term</th>\n",
       "      <td>1432440</td>\n",
       "      <td>None</td>\n",
       "      <td>None</td>\n",
       "      <td>36 months</td>\n",
       "      <td>60 months</td>\n",
       "    </tr>\n",
       "    <tr>\n",
       "      <th>int_rate</th>\n",
       "      <td>1432440</td>\n",
       "      <td>None</td>\n",
       "      <td>None</td>\n",
       "      <td>5.31%</td>\n",
       "      <td>30.99%</td>\n",
       "    </tr>\n",
       "    <tr>\n",
       "      <th>installment</th>\n",
       "      <td>1432440</td>\n",
       "      <td>456.68781535698236</td>\n",
       "      <td>281.71344223131814</td>\n",
       "      <td>19.4</td>\n",
       "      <td>1715.42</td>\n",
       "    </tr>\n",
       "    <tr>\n",
       "      <th>grade</th>\n",
       "      <td>1432440</td>\n",
       "      <td>None</td>\n",
       "      <td>None</td>\n",
       "      <td>A</td>\n",
       "      <td>G</td>\n",
       "    </tr>\n",
       "    <tr>\n",
       "      <th>emp_length</th>\n",
       "      <td>1432440</td>\n",
       "      <td>None</td>\n",
       "      <td>None</td>\n",
       "      <td>1 year</td>\n",
       "      <td>n/a</td>\n",
       "    </tr>\n",
       "    <tr>\n",
       "      <th>home_ownership</th>\n",
       "      <td>1432440</td>\n",
       "      <td>None</td>\n",
       "      <td>None</td>\n",
       "      <td>ANY</td>\n",
       "      <td>RENT</td>\n",
       "    </tr>\n",
       "    <tr>\n",
       "      <th>annual_inc</th>\n",
       "      <td>1432440</td>\n",
       "      <td>81034.58293296749</td>\n",
       "      <td>134183.35696714345</td>\n",
       "      <td>0.0</td>\n",
       "      <td>6.1E7</td>\n",
       "    </tr>\n",
       "    <tr>\n",
       "      <th>verification_status</th>\n",
       "      <td>1432440</td>\n",
       "      <td>None</td>\n",
       "      <td>None</td>\n",
       "      <td>Not Verified</td>\n",
       "      <td>Verified</td>\n",
       "    </tr>\n",
       "    <tr>\n",
       "      <th>loan_status</th>\n",
       "      <td>1432440</td>\n",
       "      <td>None</td>\n",
       "      <td>None</td>\n",
       "      <td>Charged Off</td>\n",
       "      <td>Late (31-120 days)</td>\n",
       "    </tr>\n",
       "    <tr>\n",
       "      <th>purpose</th>\n",
       "      <td>1432440</td>\n",
       "      <td>None</td>\n",
       "      <td>None</td>\n",
       "      <td>and also pay off some credit card debt.  I wi...</td>\n",
       "      <td>wedding</td>\n",
       "    </tr>\n",
       "    <tr>\n",
       "      <th>addr_state</th>\n",
       "      <td>1432440</td>\n",
       "      <td>None</td>\n",
       "      <td>None</td>\n",
       "      <td>AK</td>\n",
       "      <td>debt_consolidation</td>\n",
       "    </tr>\n",
       "    <tr>\n",
       "      <th>dti</th>\n",
       "      <td>1430856</td>\n",
       "      <td>19.21187297804439</td>\n",
       "      <td>15.97277532300163</td>\n",
       "      <td>-1</td>\n",
       "      <td>Debt consolidation</td>\n",
       "    </tr>\n",
       "    <tr>\n",
       "      <th>delinq_2yrs</th>\n",
       "      <td>1432440</td>\n",
       "      <td>0.30147182532729144</td>\n",
       "      <td>0.8643187650693963</td>\n",
       "      <td>0</td>\n",
       "      <td>9</td>\n",
       "    </tr>\n",
       "    <tr>\n",
       "      <th>earliest_cr_line</th>\n",
       "      <td>1432440</td>\n",
       "      <td>None</td>\n",
       "      <td>None</td>\n",
       "      <td>Apr-1955</td>\n",
       "      <td>Sep-2015</td>\n",
       "    </tr>\n",
       "    <tr>\n",
       "      <th>inq_last_6mths</th>\n",
       "      <td>1432439</td>\n",
       "      <td>0.4954669902173845</td>\n",
       "      <td>0.7923339930576608</td>\n",
       "      <td>0.0</td>\n",
       "      <td>18.24</td>\n",
       "    </tr>\n",
       "    <tr>\n",
       "      <th>open_acc</th>\n",
       "      <td>1432440</td>\n",
       "      <td>11.710318756806569</td>\n",
       "      <td>5.841056149724105</td>\n",
       "      <td>0</td>\n",
       "      <td>101</td>\n",
       "    </tr>\n",
       "    <tr>\n",
       "      <th>pub_rec</th>\n",
       "      <td>1432439</td>\n",
       "      <td>0.20539234131435963</td>\n",
       "      <td>0.5861093697871795</td>\n",
       "      <td>0</td>\n",
       "      <td>61</td>\n",
       "    </tr>\n",
       "    <tr>\n",
       "      <th>revol_bal</th>\n",
       "      <td>1432439</td>\n",
       "      <td>16846.678102173984</td>\n",
       "      <td>23301.014583199456</td>\n",
       "      <td>0</td>\n",
       "      <td>2358150</td>\n",
       "    </tr>\n",
       "    <tr>\n",
       "      <th>revol_util</th>\n",
       "      <td>1431251</td>\n",
       "      <td>19.0</td>\n",
       "      <td>NaN</td>\n",
       "      <td>0%</td>\n",
       "      <td>99.9%</td>\n",
       "    </tr>\n",
       "    <tr>\n",
       "      <th>total_acc</th>\n",
       "      <td>1432440</td>\n",
       "      <td>23.602901343162717</td>\n",
       "      <td>12.040983315039249</td>\n",
       "      <td>0</td>\n",
       "      <td>176</td>\n",
       "    </tr>\n",
       "    <tr>\n",
       "      <th>last_credit_pull_d</th>\n",
       "      <td>1432416</td>\n",
       "      <td>None</td>\n",
       "      <td>None</td>\n",
       "      <td>Apr-2016</td>\n",
       "      <td>Sep-2019</td>\n",
       "    </tr>\n",
       "  </tbody>\n",
       "</table>\n",
       "</div>"
      ],
      "text/plain": [
       "                           0                    1                   2  \\\n",
       "summary                count                 mean              stddev   \n",
       "loan_amnt            1432440   15370.388358325654   9646.026272413876   \n",
       "term                 1432440                 None                None   \n",
       "int_rate             1432440                 None                None   \n",
       "installment          1432440   456.68781535698236  281.71344223131814   \n",
       "grade                1432440                 None                None   \n",
       "emp_length           1432440                 None                None   \n",
       "home_ownership       1432440                 None                None   \n",
       "annual_inc           1432440    81034.58293296749  134183.35696714345   \n",
       "verification_status  1432440                 None                None   \n",
       "loan_status          1432440                 None                None   \n",
       "purpose              1432440                 None                None   \n",
       "addr_state           1432440                 None                None   \n",
       "dti                  1430856    19.21187297804439   15.97277532300163   \n",
       "delinq_2yrs          1432440  0.30147182532729144  0.8643187650693963   \n",
       "earliest_cr_line     1432440                 None                None   \n",
       "inq_last_6mths       1432439   0.4954669902173845  0.7923339930576608   \n",
       "open_acc             1432440   11.710318756806569   5.841056149724105   \n",
       "pub_rec              1432439  0.20539234131435963  0.5861093697871795   \n",
       "revol_bal            1432439   16846.678102173984  23301.014583199456   \n",
       "revol_util           1431251                 19.0                 NaN   \n",
       "total_acc            1432440   23.602901343162717  12.040983315039249   \n",
       "last_credit_pull_d   1432416                 None                None   \n",
       "\n",
       "                                                                     3  \\\n",
       "summary                                                            min   \n",
       "loan_amnt                                                         1000   \n",
       "term                                                         36 months   \n",
       "int_rate                                                         5.31%   \n",
       "installment                                                       19.4   \n",
       "grade                                                                A   \n",
       "emp_length                                                      1 year   \n",
       "home_ownership                                                     ANY   \n",
       "annual_inc                                                         0.0   \n",
       "verification_status                                       Not Verified   \n",
       "loan_status                                                Charged Off   \n",
       "purpose               and also pay off some credit card debt.  I wi...   \n",
       "addr_state                                                          AK   \n",
       "dti                                                                 -1   \n",
       "delinq_2yrs                                                          0   \n",
       "earliest_cr_line                                              Apr-1955   \n",
       "inq_last_6mths                                                     0.0   \n",
       "open_acc                                                             0   \n",
       "pub_rec                                                              0   \n",
       "revol_bal                                                            0   \n",
       "revol_util                                                          0%   \n",
       "total_acc                                                            0   \n",
       "last_credit_pull_d                                            Apr-2016   \n",
       "\n",
       "                                      4  \n",
       "summary                             max  \n",
       "loan_amnt                         40000  \n",
       "term                          60 months  \n",
       "int_rate                         30.99%  \n",
       "installment                     1715.42  \n",
       "grade                                 G  \n",
       "emp_length                          n/a  \n",
       "home_ownership                     RENT  \n",
       "annual_inc                        6.1E7  \n",
       "verification_status            Verified  \n",
       "loan_status          Late (31-120 days)  \n",
       "purpose                         wedding  \n",
       "addr_state           debt_consolidation  \n",
       "dti                  Debt consolidation  \n",
       "delinq_2yrs                           9  \n",
       "earliest_cr_line               Sep-2015  \n",
       "inq_last_6mths                    18.24  \n",
       "open_acc                            101  \n",
       "pub_rec                              61  \n",
       "revol_bal                       2358150  \n",
       "revol_util                        99.9%  \n",
       "total_acc                           176  \n",
       "last_credit_pull_d             Sep-2019  "
      ]
     },
     "execution_count": 15,
     "metadata": {},
     "output_type": "execute_result"
    }
   ],
   "source": [
    "selectedAttr_df.describe().toPandas().transpose()"
   ]
  },
  {
   "cell_type": "markdown",
   "metadata": {},
   "source": [
    "#### ดู Data types ด้วย .printSchema()"
   ]
  },
  {
   "cell_type": "code",
   "execution_count": 16,
   "metadata": {},
   "outputs": [
    {
     "name": "stdout",
     "output_type": "stream",
     "text": [
      "root\n",
      " |-- loan_amnt: integer (nullable = true)\n",
      " |-- term: string (nullable = true)\n",
      " |-- int_rate: string (nullable = true)\n",
      " |-- installment: double (nullable = true)\n",
      " |-- grade: string (nullable = true)\n",
      " |-- emp_length: string (nullable = true)\n",
      " |-- home_ownership: string (nullable = true)\n",
      " |-- annual_inc: double (nullable = true)\n",
      " |-- verification_status: string (nullable = true)\n",
      " |-- loan_status: string (nullable = true)\n",
      " |-- purpose: string (nullable = true)\n",
      " |-- addr_state: string (nullable = true)\n",
      " |-- dti: string (nullable = true)\n",
      " |-- delinq_2yrs: string (nullable = true)\n",
      " |-- earliest_cr_line: string (nullable = true)\n",
      " |-- inq_last_6mths: double (nullable = true)\n",
      " |-- open_acc: integer (nullable = true)\n",
      " |-- pub_rec: integer (nullable = true)\n",
      " |-- revol_bal: integer (nullable = true)\n",
      " |-- revol_util: string (nullable = true)\n",
      " |-- total_acc: integer (nullable = true)\n",
      " |-- last_credit_pull_d: string (nullable = true)\n",
      "\n"
     ]
    }
   ],
   "source": [
    "selectedAttr_df.printSchema()"
   ]
  },
  {
   "cell_type": "markdown",
   "metadata": {},
   "source": [
    "# 2. Cleaning and Transformation (Data Prep.)"
   ]
  },
  {
   "cell_type": "markdown",
   "metadata": {},
   "source": [
    "#### ลบทิ้งทั้งบรรทัด หาก attributes ใดมีค่า null ด้วย .dropna()"
   ]
  },
  {
   "cell_type": "code",
   "execution_count": 17,
   "metadata": {
    "collapsed": true
   },
   "outputs": [],
   "source": [
    "noMissing_df = selectedAttr_df.dropna(how='any')"
   ]
  },
  {
   "cell_type": "markdown",
   "metadata": {},
   "source": [
    "#### ประกาศ Python & Spark Function สำหรับเอาเครื่องหมาย % ออก"
   ]
  },
  {
   "cell_type": "code",
   "execution_count": 18,
   "metadata": {
    "collapsed": true
   },
   "outputs": [],
   "source": [
    "def f_removepercentsign(origin):\n",
    "    return origin.rstrip('%')"
   ]
  },
  {
   "cell_type": "code",
   "execution_count": 19,
   "metadata": {
    "collapsed": true
   },
   "outputs": [],
   "source": [
    "removepercentsign = sparkf.udf(lambda x: f_removepercentsign(x),StringType())"
   ]
  },
  {
   "cell_type": "markdown",
   "metadata": {},
   "source": [
    "#### ประกาศ Pythonn & Spark Function สำหรับเอาเครื่องหมาย - ออก"
   ]
  },
  {
   "cell_type": "code",
   "execution_count": 20,
   "metadata": {
    "collapsed": true
   },
   "outputs": [],
   "source": [
    "def f_extractmonth(origin):\n",
    "    return origin.split('-')[0]"
   ]
  },
  {
   "cell_type": "code",
   "execution_count": 21,
   "metadata": {
    "collapsed": true
   },
   "outputs": [],
   "source": [
    "extractmonth = sparkf.udf(lambda x: f_extractmonth(x),StringType())"
   ]
  },
  {
   "cell_type": "markdown",
   "metadata": {},
   "source": [
    "#### เรียกใช้ Spark Functions ผ่านทาง withColumns()"
   ]
  },
  {
   "cell_type": "code",
   "execution_count": 22,
   "metadata": {
    "collapsed": true
   },
   "outputs": [],
   "source": [
    "crunched_df = noMissing_df.\\\n",
    "withColumn('revol_util',removepercentsign(noMissing_df['revol_util']).cast(DoubleType())).\\\n",
    "withColumn('int_rate',removepercentsign(noMissing_df['int_rate']).cast(DoubleType())).\\\n",
    "withColumn('earliest_cr_line',extractmonth(noMissing_df['earliest_cr_line']).cast(StringType())).\\\n",
    "withColumn('last_credit_pull_d',extractmonth(noMissing_df['last_credit_pull_d']).cast(StringType()))"
   ]
  },
  {
   "cell_type": "markdown",
   "metadata": {},
   "source": [
    "#### ทำ sub-Rows ด้วย .filter() เลือกมาเฉพาะ Row ที่มี Loan Status เป็น Fully Paid และ Charged Off"
   ]
  },
  {
   "cell_type": "code",
   "execution_count": 23,
   "metadata": {
    "collapsed": true
   },
   "outputs": [],
   "source": [
    "relevant_df = crunched_df\\\n",
    ".filter((sparkf.col('loan_status') == 'Fully Paid')|(sparkf.col('loan_status') == 'Charged Off'))"
   ]
  },
  {
   "cell_type": "code",
   "execution_count": 24,
   "metadata": {
    "collapsed": true
   },
   "outputs": [],
   "source": [
    "final_df = relevant_df.dropna(how='any')"
   ]
  },
  {
   "cell_type": "code",
   "execution_count": 25,
   "metadata": {
    "collapsed": true
   },
   "outputs": [],
   "source": [
    "upstreamProcess_duration = t.time()-start_time"
   ]
  },
  {
   "cell_type": "code",
   "execution_count": 26,
   "metadata": {},
   "outputs": [
    {
     "name": "stdout",
     "output_type": "stream",
     "text": [
      "100.55839824676514\n"
     ]
    }
   ],
   "source": [
    "print(upstreamProcess_duration)"
   ]
  },
  {
   "cell_type": "code",
   "execution_count": 27,
   "metadata": {},
   "outputs": [
    {
     "name": "stdout",
     "output_type": "stream",
     "text": [
      "root\n",
      " |-- loan_amnt: integer (nullable = true)\n",
      " |-- term: string (nullable = true)\n",
      " |-- int_rate: double (nullable = true)\n",
      " |-- installment: double (nullable = true)\n",
      " |-- grade: string (nullable = true)\n",
      " |-- emp_length: string (nullable = true)\n",
      " |-- home_ownership: string (nullable = true)\n",
      " |-- annual_inc: double (nullable = true)\n",
      " |-- verification_status: string (nullable = true)\n",
      " |-- loan_status: string (nullable = true)\n",
      " |-- purpose: string (nullable = true)\n",
      " |-- addr_state: string (nullable = true)\n",
      " |-- dti: string (nullable = true)\n",
      " |-- delinq_2yrs: string (nullable = true)\n",
      " |-- earliest_cr_line: string (nullable = true)\n",
      " |-- inq_last_6mths: double (nullable = true)\n",
      " |-- open_acc: integer (nullable = true)\n",
      " |-- pub_rec: integer (nullable = true)\n",
      " |-- revol_bal: integer (nullable = true)\n",
      " |-- revol_util: double (nullable = true)\n",
      " |-- total_acc: integer (nullable = true)\n",
      " |-- last_credit_pull_d: string (nullable = true)\n",
      "\n"
     ]
    }
   ],
   "source": [
    "final_df.printSchema()"
   ]
  },
  {
   "cell_type": "markdown",
   "metadata": {},
   "source": [
    "# 3. Load Cleaned Data to Database/Data Warehouse"
   ]
  },
  {
   "cell_type": "code",
   "execution_count": 28,
   "metadata": {
    "collapsed": true
   },
   "outputs": [],
   "source": [
    "server_name = \"jdbc:sqlserver://mssql-container\"\n",
    "database_name = \"TestDB\"\n",
    "url = server_name + \";\" + \"databaseName=\" + database_name + \";\"\n",
    "\n",
    "table_name = \"spark_loan_stat_10000\"\n",
    "username = \"SA\"\n",
    "password = \"Passw0rd123456\" # Please specify password here"
   ]
  },
  {
   "cell_type": "code",
   "execution_count": 29,
   "metadata": {
    "collapsed": true
   },
   "outputs": [],
   "source": [
    "final_df.write.mode('overwrite').format(\"jdbc\")\\\n",
    "        .option(\"url\", url) \\\n",
    "        .option(\"dbtable\", table_name) \\\n",
    "        .option(\"user\", username) \\\n",
    "        .option(\"password\", password)\\\n",
    "        .option(\"driver\", \"com.microsoft.sqlserver.jdbc.SQLServerDriver\").save()"
   ]
  },
  {
   "cell_type": "code",
   "execution_count": 30,
   "metadata": {
    "collapsed": true
   },
   "outputs": [],
   "source": [
    "writeProcess_duration = t.time()-start_time"
   ]
  },
  {
   "cell_type": "code",
   "execution_count": 31,
   "metadata": {},
   "outputs": [
    {
     "name": "stdout",
     "output_type": "stream",
     "text": [
      "146.6444342136383\n"
     ]
    }
   ],
   "source": [
    "print(writeProcess_duration)"
   ]
  },
  {
   "cell_type": "code",
   "execution_count": 32,
   "metadata": {},
   "outputs": [
    {
     "data": {
      "text/plain": [
       "735740"
      ]
     },
     "execution_count": 32,
     "metadata": {},
     "output_type": "execute_result"
    }
   ],
   "source": [
    "final_df.count()"
   ]
  },
  {
   "cell_type": "markdown",
   "metadata": {},
   "source": [
    "# 4. ทดสอบการอ่านจาก MSSQL มาเป็น Spark DataFrame เพื่อเปรียบเทียบ"
   ]
  },
  {
   "cell_type": "code",
   "execution_count": 33,
   "metadata": {
    "collapsed": true
   },
   "outputs": [],
   "source": [
    "read_result_df = spark.read.format(\"jdbc\")\\\n",
    "        .option(\"url\", url) \\\n",
    "        .option(\"dbtable\", table_name) \\\n",
    "        .option(\"user\", username) \\\n",
    "        .option(\"password\", password)\\\n",
    "        .option(\"driver\", \"com.microsoft.sqlserver.jdbc.SQLServerDriver\").load()"
   ]
  },
  {
   "cell_type": "code",
   "execution_count": 34,
   "metadata": {},
   "outputs": [
    {
     "data": {
      "text/plain": [
       "735740"
      ]
     },
     "execution_count": 34,
     "metadata": {},
     "output_type": "execute_result"
    }
   ],
   "source": [
    "read_result_df.count()"
   ]
  },
  {
   "cell_type": "code",
   "execution_count": 35,
   "metadata": {},
   "outputs": [
    {
     "data": {
      "text/html": [
       "<div>\n",
       "<style scoped>\n",
       "    .dataframe tbody tr th:only-of-type {\n",
       "        vertical-align: middle;\n",
       "    }\n",
       "\n",
       "    .dataframe tbody tr th {\n",
       "        vertical-align: top;\n",
       "    }\n",
       "\n",
       "    .dataframe thead th {\n",
       "        text-align: right;\n",
       "    }\n",
       "</style>\n",
       "<table border=\"1\" class=\"dataframe\">\n",
       "  <thead>\n",
       "    <tr style=\"text-align: right;\">\n",
       "      <th></th>\n",
       "      <th>0</th>\n",
       "      <th>1</th>\n",
       "      <th>2</th>\n",
       "      <th>3</th>\n",
       "      <th>4</th>\n",
       "    </tr>\n",
       "  </thead>\n",
       "  <tbody>\n",
       "    <tr>\n",
       "      <th>summary</th>\n",
       "      <td>count</td>\n",
       "      <td>mean</td>\n",
       "      <td>stddev</td>\n",
       "      <td>min</td>\n",
       "      <td>max</td>\n",
       "    </tr>\n",
       "    <tr>\n",
       "      <th>loan_amnt</th>\n",
       "      <td>735740</td>\n",
       "      <td>14503.327024492348</td>\n",
       "      <td>9240.777415179264</td>\n",
       "      <td>1000</td>\n",
       "      <td>40000</td>\n",
       "    </tr>\n",
       "    <tr>\n",
       "      <th>term</th>\n",
       "      <td>735740</td>\n",
       "      <td>None</td>\n",
       "      <td>None</td>\n",
       "      <td>36 months</td>\n",
       "      <td>60 months</td>\n",
       "    </tr>\n",
       "    <tr>\n",
       "      <th>int_rate</th>\n",
       "      <td>735740</td>\n",
       "      <td>13.208798923640442</td>\n",
       "      <td>5.157202466162041</td>\n",
       "      <td>5.31</td>\n",
       "      <td>30.99</td>\n",
       "    </tr>\n",
       "    <tr>\n",
       "      <th>installment</th>\n",
       "      <td>735740</td>\n",
       "      <td>446.5535269525436</td>\n",
       "      <td>282.87812370846495</td>\n",
       "      <td>30.12</td>\n",
       "      <td>1715.42</td>\n",
       "    </tr>\n",
       "    <tr>\n",
       "      <th>grade</th>\n",
       "      <td>735740</td>\n",
       "      <td>None</td>\n",
       "      <td>None</td>\n",
       "      <td>A</td>\n",
       "      <td>G</td>\n",
       "    </tr>\n",
       "    <tr>\n",
       "      <th>emp_length</th>\n",
       "      <td>735740</td>\n",
       "      <td>None</td>\n",
       "      <td>None</td>\n",
       "      <td>1 year</td>\n",
       "      <td>n/a</td>\n",
       "    </tr>\n",
       "    <tr>\n",
       "      <th>home_ownership</th>\n",
       "      <td>735740</td>\n",
       "      <td>None</td>\n",
       "      <td>None</td>\n",
       "      <td>ANY</td>\n",
       "      <td>RENT</td>\n",
       "    </tr>\n",
       "    <tr>\n",
       "      <th>annual_inc</th>\n",
       "      <td>735740</td>\n",
       "      <td>79534.12686194837</td>\n",
       "      <td>77998.95354640124</td>\n",
       "      <td>0.0</td>\n",
       "      <td>9573072.0</td>\n",
       "    </tr>\n",
       "    <tr>\n",
       "      <th>verification_status</th>\n",
       "      <td>735740</td>\n",
       "      <td>None</td>\n",
       "      <td>None</td>\n",
       "      <td>Not Verified</td>\n",
       "      <td>Verified</td>\n",
       "    </tr>\n",
       "    <tr>\n",
       "      <th>loan_status</th>\n",
       "      <td>735740</td>\n",
       "      <td>None</td>\n",
       "      <td>None</td>\n",
       "      <td>Charged Off</td>\n",
       "      <td>Fully Paid</td>\n",
       "    </tr>\n",
       "    <tr>\n",
       "      <th>purpose</th>\n",
       "      <td>735740</td>\n",
       "      <td>None</td>\n",
       "      <td>None</td>\n",
       "      <td>car</td>\n",
       "      <td>wedding</td>\n",
       "    </tr>\n",
       "    <tr>\n",
       "      <th>addr_state</th>\n",
       "      <td>735740</td>\n",
       "      <td>None</td>\n",
       "      <td>None</td>\n",
       "      <td>AK</td>\n",
       "      <td>WY</td>\n",
       "    </tr>\n",
       "    <tr>\n",
       "      <th>dti</th>\n",
       "      <td>735740</td>\n",
       "      <td>18.71262098023756</td>\n",
       "      <td>13.7485621773378</td>\n",
       "      <td>-1</td>\n",
       "      <td>999</td>\n",
       "    </tr>\n",
       "    <tr>\n",
       "      <th>delinq_2yrs</th>\n",
       "      <td>735740</td>\n",
       "      <td>0.3275939870062794</td>\n",
       "      <td>0.9005868200531556</td>\n",
       "      <td>0</td>\n",
       "      <td>9</td>\n",
       "    </tr>\n",
       "    <tr>\n",
       "      <th>earliest_cr_line</th>\n",
       "      <td>735740</td>\n",
       "      <td>None</td>\n",
       "      <td>None</td>\n",
       "      <td>Apr</td>\n",
       "      <td>Sep</td>\n",
       "    </tr>\n",
       "    <tr>\n",
       "      <th>inq_last_6mths</th>\n",
       "      <td>735740</td>\n",
       "      <td>0.5597004376546062</td>\n",
       "      <td>0.8480896401766068</td>\n",
       "      <td>0.0</td>\n",
       "      <td>5.0</td>\n",
       "    </tr>\n",
       "    <tr>\n",
       "      <th>open_acc</th>\n",
       "      <td>735740</td>\n",
       "      <td>11.76446298964308</td>\n",
       "      <td>5.7711006518000225</td>\n",
       "      <td>1</td>\n",
       "      <td>86</td>\n",
       "    </tr>\n",
       "    <tr>\n",
       "      <th>pub_rec</th>\n",
       "      <td>735740</td>\n",
       "      <td>0.2480917171827004</td>\n",
       "      <td>0.6648879774606785</td>\n",
       "      <td>0</td>\n",
       "      <td>61</td>\n",
       "    </tr>\n",
       "    <tr>\n",
       "      <th>revol_bal</th>\n",
       "      <td>735740</td>\n",
       "      <td>16107.410389539784</td>\n",
       "      <td>22807.652140409977</td>\n",
       "      <td>0</td>\n",
       "      <td>1137891</td>\n",
       "    </tr>\n",
       "    <tr>\n",
       "      <th>revol_util</th>\n",
       "      <td>735740</td>\n",
       "      <td>47.7871560605657</td>\n",
       "      <td>24.671506418415998</td>\n",
       "      <td>0.0</td>\n",
       "      <td>172.0</td>\n",
       "    </tr>\n",
       "    <tr>\n",
       "      <th>total_acc</th>\n",
       "      <td>735740</td>\n",
       "      <td>24.411736482996712</td>\n",
       "      <td>12.166200370113925</td>\n",
       "      <td>2</td>\n",
       "      <td>176</td>\n",
       "    </tr>\n",
       "    <tr>\n",
       "      <th>last_credit_pull_d</th>\n",
       "      <td>735740</td>\n",
       "      <td>None</td>\n",
       "      <td>None</td>\n",
       "      <td>Apr</td>\n",
       "      <td>Sep</td>\n",
       "    </tr>\n",
       "  </tbody>\n",
       "</table>\n",
       "</div>"
      ],
      "text/plain": [
       "                          0                   1                   2  \\\n",
       "summary               count                mean              stddev   \n",
       "loan_amnt            735740  14503.327024492348   9240.777415179264   \n",
       "term                 735740                None                None   \n",
       "int_rate             735740  13.208798923640442   5.157202466162041   \n",
       "installment          735740   446.5535269525436  282.87812370846495   \n",
       "grade                735740                None                None   \n",
       "emp_length           735740                None                None   \n",
       "home_ownership       735740                None                None   \n",
       "annual_inc           735740   79534.12686194837   77998.95354640124   \n",
       "verification_status  735740                None                None   \n",
       "loan_status          735740                None                None   \n",
       "purpose              735740                None                None   \n",
       "addr_state           735740                None                None   \n",
       "dti                  735740   18.71262098023756    13.7485621773378   \n",
       "delinq_2yrs          735740  0.3275939870062794  0.9005868200531556   \n",
       "earliest_cr_line     735740                None                None   \n",
       "inq_last_6mths       735740  0.5597004376546062  0.8480896401766068   \n",
       "open_acc             735740   11.76446298964308  5.7711006518000225   \n",
       "pub_rec              735740  0.2480917171827004  0.6648879774606785   \n",
       "revol_bal            735740  16107.410389539784  22807.652140409977   \n",
       "revol_util           735740    47.7871560605657  24.671506418415998   \n",
       "total_acc            735740  24.411736482996712  12.166200370113925   \n",
       "last_credit_pull_d   735740                None                None   \n",
       "\n",
       "                                3           4  \n",
       "summary                       min         max  \n",
       "loan_amnt                    1000       40000  \n",
       "term                    36 months   60 months  \n",
       "int_rate                     5.31       30.99  \n",
       "installment                 30.12     1715.42  \n",
       "grade                           A           G  \n",
       "emp_length                 1 year         n/a  \n",
       "home_ownership                ANY        RENT  \n",
       "annual_inc                    0.0   9573072.0  \n",
       "verification_status  Not Verified    Verified  \n",
       "loan_status           Charged Off  Fully Paid  \n",
       "purpose                       car     wedding  \n",
       "addr_state                     AK          WY  \n",
       "dti                            -1         999  \n",
       "delinq_2yrs                     0           9  \n",
       "earliest_cr_line              Apr         Sep  \n",
       "inq_last_6mths                0.0         5.0  \n",
       "open_acc                        1          86  \n",
       "pub_rec                         0          61  \n",
       "revol_bal                       0     1137891  \n",
       "revol_util                    0.0       172.0  \n",
       "total_acc                       2         176  \n",
       "last_credit_pull_d            Apr         Sep  "
      ]
     },
     "execution_count": 35,
     "metadata": {},
     "output_type": "execute_result"
    }
   ],
   "source": [
    "read_result_df.describe().toPandas().transpose()"
   ]
  },
  {
   "cell_type": "code",
   "execution_count": 36,
   "metadata": {},
   "outputs": [
    {
     "data": {
      "text/html": [
       "<div>\n",
       "<style scoped>\n",
       "    .dataframe tbody tr th:only-of-type {\n",
       "        vertical-align: middle;\n",
       "    }\n",
       "\n",
       "    .dataframe tbody tr th {\n",
       "        vertical-align: top;\n",
       "    }\n",
       "\n",
       "    .dataframe thead th {\n",
       "        text-align: right;\n",
       "    }\n",
       "</style>\n",
       "<table border=\"1\" class=\"dataframe\">\n",
       "  <thead>\n",
       "    <tr style=\"text-align: right;\">\n",
       "      <th></th>\n",
       "      <th>0</th>\n",
       "      <th>1</th>\n",
       "      <th>2</th>\n",
       "      <th>3</th>\n",
       "      <th>4</th>\n",
       "    </tr>\n",
       "  </thead>\n",
       "  <tbody>\n",
       "    <tr>\n",
       "      <th>summary</th>\n",
       "      <td>count</td>\n",
       "      <td>mean</td>\n",
       "      <td>stddev</td>\n",
       "      <td>min</td>\n",
       "      <td>max</td>\n",
       "    </tr>\n",
       "    <tr>\n",
       "      <th>loan_amnt</th>\n",
       "      <td>735740</td>\n",
       "      <td>14503.327024492348</td>\n",
       "      <td>9240.777415179347</td>\n",
       "      <td>1000</td>\n",
       "      <td>40000</td>\n",
       "    </tr>\n",
       "    <tr>\n",
       "      <th>term</th>\n",
       "      <td>735740</td>\n",
       "      <td>None</td>\n",
       "      <td>None</td>\n",
       "      <td>36 months</td>\n",
       "      <td>60 months</td>\n",
       "    </tr>\n",
       "    <tr>\n",
       "      <th>int_rate</th>\n",
       "      <td>735740</td>\n",
       "      <td>13.208798923527274</td>\n",
       "      <td>5.1572024661618965</td>\n",
       "      <td>5.31</td>\n",
       "      <td>30.99</td>\n",
       "    </tr>\n",
       "    <tr>\n",
       "      <th>installment</th>\n",
       "      <td>735740</td>\n",
       "      <td>446.5535269524311</td>\n",
       "      <td>282.878123708465</td>\n",
       "      <td>30.12</td>\n",
       "      <td>1715.42</td>\n",
       "    </tr>\n",
       "    <tr>\n",
       "      <th>grade</th>\n",
       "      <td>735740</td>\n",
       "      <td>None</td>\n",
       "      <td>None</td>\n",
       "      <td>A</td>\n",
       "      <td>G</td>\n",
       "    </tr>\n",
       "    <tr>\n",
       "      <th>emp_length</th>\n",
       "      <td>735740</td>\n",
       "      <td>None</td>\n",
       "      <td>None</td>\n",
       "      <td>1 year</td>\n",
       "      <td>n/a</td>\n",
       "    </tr>\n",
       "    <tr>\n",
       "      <th>home_ownership</th>\n",
       "      <td>735740</td>\n",
       "      <td>None</td>\n",
       "      <td>None</td>\n",
       "      <td>ANY</td>\n",
       "      <td>RENT</td>\n",
       "    </tr>\n",
       "    <tr>\n",
       "      <th>annual_inc</th>\n",
       "      <td>735740</td>\n",
       "      <td>79534.1268619485</td>\n",
       "      <td>77998.95354640132</td>\n",
       "      <td>0.0</td>\n",
       "      <td>9573072.0</td>\n",
       "    </tr>\n",
       "    <tr>\n",
       "      <th>verification_status</th>\n",
       "      <td>735740</td>\n",
       "      <td>None</td>\n",
       "      <td>None</td>\n",
       "      <td>Not Verified</td>\n",
       "      <td>Verified</td>\n",
       "    </tr>\n",
       "    <tr>\n",
       "      <th>loan_status</th>\n",
       "      <td>735740</td>\n",
       "      <td>None</td>\n",
       "      <td>None</td>\n",
       "      <td>Charged Off</td>\n",
       "      <td>Fully Paid</td>\n",
       "    </tr>\n",
       "    <tr>\n",
       "      <th>purpose</th>\n",
       "      <td>735740</td>\n",
       "      <td>None</td>\n",
       "      <td>None</td>\n",
       "      <td>car</td>\n",
       "      <td>wedding</td>\n",
       "    </tr>\n",
       "    <tr>\n",
       "      <th>addr_state</th>\n",
       "      <td>735740</td>\n",
       "      <td>None</td>\n",
       "      <td>None</td>\n",
       "      <td>AK</td>\n",
       "      <td>WY</td>\n",
       "    </tr>\n",
       "    <tr>\n",
       "      <th>dti</th>\n",
       "      <td>735740</td>\n",
       "      <td>18.712620980237453</td>\n",
       "      <td>13.748562177337787</td>\n",
       "      <td>-1</td>\n",
       "      <td>999</td>\n",
       "    </tr>\n",
       "    <tr>\n",
       "      <th>delinq_2yrs</th>\n",
       "      <td>735740</td>\n",
       "      <td>0.3275939870062794</td>\n",
       "      <td>0.9005868200531504</td>\n",
       "      <td>0</td>\n",
       "      <td>9</td>\n",
       "    </tr>\n",
       "    <tr>\n",
       "      <th>earliest_cr_line</th>\n",
       "      <td>735740</td>\n",
       "      <td>None</td>\n",
       "      <td>None</td>\n",
       "      <td>Apr</td>\n",
       "      <td>Sep</td>\n",
       "    </tr>\n",
       "    <tr>\n",
       "      <th>inq_last_6mths</th>\n",
       "      <td>735740</td>\n",
       "      <td>0.5597004376546062</td>\n",
       "      <td>0.848089640176607</td>\n",
       "      <td>0.0</td>\n",
       "      <td>5.0</td>\n",
       "    </tr>\n",
       "    <tr>\n",
       "      <th>open_acc</th>\n",
       "      <td>735740</td>\n",
       "      <td>11.76446298964308</td>\n",
       "      <td>5.771100651800102</td>\n",
       "      <td>1</td>\n",
       "      <td>86</td>\n",
       "    </tr>\n",
       "    <tr>\n",
       "      <th>pub_rec</th>\n",
       "      <td>735740</td>\n",
       "      <td>0.2480917171827004</td>\n",
       "      <td>0.6648879774606837</td>\n",
       "      <td>0</td>\n",
       "      <td>61</td>\n",
       "    </tr>\n",
       "    <tr>\n",
       "      <th>revol_bal</th>\n",
       "      <td>735740</td>\n",
       "      <td>16107.410389539784</td>\n",
       "      <td>22807.65214040953</td>\n",
       "      <td>0</td>\n",
       "      <td>1137891</td>\n",
       "    </tr>\n",
       "    <tr>\n",
       "      <th>revol_util</th>\n",
       "      <td>735740</td>\n",
       "      <td>47.787156060564946</td>\n",
       "      <td>24.671506418415927</td>\n",
       "      <td>0.0</td>\n",
       "      <td>172.0</td>\n",
       "    </tr>\n",
       "    <tr>\n",
       "      <th>total_acc</th>\n",
       "      <td>735740</td>\n",
       "      <td>24.411736482996712</td>\n",
       "      <td>12.166200370113788</td>\n",
       "      <td>2</td>\n",
       "      <td>176</td>\n",
       "    </tr>\n",
       "    <tr>\n",
       "      <th>last_credit_pull_d</th>\n",
       "      <td>735740</td>\n",
       "      <td>None</td>\n",
       "      <td>None</td>\n",
       "      <td>Apr</td>\n",
       "      <td>Sep</td>\n",
       "    </tr>\n",
       "  </tbody>\n",
       "</table>\n",
       "</div>"
      ],
      "text/plain": [
       "                          0                   1                   2  \\\n",
       "summary               count                mean              stddev   \n",
       "loan_amnt            735740  14503.327024492348   9240.777415179347   \n",
       "term                 735740                None                None   \n",
       "int_rate             735740  13.208798923527274  5.1572024661618965   \n",
       "installment          735740   446.5535269524311    282.878123708465   \n",
       "grade                735740                None                None   \n",
       "emp_length           735740                None                None   \n",
       "home_ownership       735740                None                None   \n",
       "annual_inc           735740    79534.1268619485   77998.95354640132   \n",
       "verification_status  735740                None                None   \n",
       "loan_status          735740                None                None   \n",
       "purpose              735740                None                None   \n",
       "addr_state           735740                None                None   \n",
       "dti                  735740  18.712620980237453  13.748562177337787   \n",
       "delinq_2yrs          735740  0.3275939870062794  0.9005868200531504   \n",
       "earliest_cr_line     735740                None                None   \n",
       "inq_last_6mths       735740  0.5597004376546062   0.848089640176607   \n",
       "open_acc             735740   11.76446298964308   5.771100651800102   \n",
       "pub_rec              735740  0.2480917171827004  0.6648879774606837   \n",
       "revol_bal            735740  16107.410389539784   22807.65214040953   \n",
       "revol_util           735740  47.787156060564946  24.671506418415927   \n",
       "total_acc            735740  24.411736482996712  12.166200370113788   \n",
       "last_credit_pull_d   735740                None                None   \n",
       "\n",
       "                                3           4  \n",
       "summary                       min         max  \n",
       "loan_amnt                    1000       40000  \n",
       "term                    36 months   60 months  \n",
       "int_rate                     5.31       30.99  \n",
       "installment                 30.12     1715.42  \n",
       "grade                           A           G  \n",
       "emp_length                 1 year         n/a  \n",
       "home_ownership                ANY        RENT  \n",
       "annual_inc                    0.0   9573072.0  \n",
       "verification_status  Not Verified    Verified  \n",
       "loan_status           Charged Off  Fully Paid  \n",
       "purpose                       car     wedding  \n",
       "addr_state                     AK          WY  \n",
       "dti                            -1         999  \n",
       "delinq_2yrs                     0           9  \n",
       "earliest_cr_line              Apr         Sep  \n",
       "inq_last_6mths                0.0         5.0  \n",
       "open_acc                        1          86  \n",
       "pub_rec                         0          61  \n",
       "revol_bal                       0     1137891  \n",
       "revol_util                    0.0       172.0  \n",
       "total_acc                       2         176  \n",
       "last_credit_pull_d            Apr         Sep  "
      ]
     },
     "execution_count": 36,
     "metadata": {},
     "output_type": "execute_result"
    }
   ],
   "source": [
    "final_df.describe().toPandas().transpose()"
   ]
  },
  {
   "cell_type": "code",
   "execution_count": 37,
   "metadata": {},
   "outputs": [
    {
     "name": "stdout",
     "output_type": "stream",
     "text": [
      "root\n",
      " |-- loan_amnt: integer (nullable = true)\n",
      " |-- term: string (nullable = true)\n",
      " |-- int_rate: double (nullable = true)\n",
      " |-- installment: double (nullable = true)\n",
      " |-- grade: string (nullable = true)\n",
      " |-- emp_length: string (nullable = true)\n",
      " |-- home_ownership: string (nullable = true)\n",
      " |-- annual_inc: double (nullable = true)\n",
      " |-- verification_status: string (nullable = true)\n",
      " |-- loan_status: string (nullable = true)\n",
      " |-- purpose: string (nullable = true)\n",
      " |-- addr_state: string (nullable = true)\n",
      " |-- dti: string (nullable = true)\n",
      " |-- delinq_2yrs: string (nullable = true)\n",
      " |-- earliest_cr_line: string (nullable = true)\n",
      " |-- inq_last_6mths: double (nullable = true)\n",
      " |-- open_acc: integer (nullable = true)\n",
      " |-- pub_rec: integer (nullable = true)\n",
      " |-- revol_bal: integer (nullable = true)\n",
      " |-- revol_util: double (nullable = true)\n",
      " |-- total_acc: integer (nullable = true)\n",
      " |-- last_credit_pull_d: string (nullable = true)\n",
      "\n"
     ]
    }
   ],
   "source": [
    "read_result_df.printSchema()"
   ]
  },
  {
   "cell_type": "code",
   "execution_count": 38,
   "metadata": {},
   "outputs": [
    {
     "name": "stdout",
     "output_type": "stream",
     "text": [
      "root\n",
      " |-- loan_amnt: integer (nullable = true)\n",
      " |-- term: string (nullable = true)\n",
      " |-- int_rate: double (nullable = true)\n",
      " |-- installment: double (nullable = true)\n",
      " |-- grade: string (nullable = true)\n",
      " |-- emp_length: string (nullable = true)\n",
      " |-- home_ownership: string (nullable = true)\n",
      " |-- annual_inc: double (nullable = true)\n",
      " |-- verification_status: string (nullable = true)\n",
      " |-- loan_status: string (nullable = true)\n",
      " |-- purpose: string (nullable = true)\n",
      " |-- addr_state: string (nullable = true)\n",
      " |-- dti: string (nullable = true)\n",
      " |-- delinq_2yrs: string (nullable = true)\n",
      " |-- earliest_cr_line: string (nullable = true)\n",
      " |-- inq_last_6mths: double (nullable = true)\n",
      " |-- open_acc: integer (nullable = true)\n",
      " |-- pub_rec: integer (nullable = true)\n",
      " |-- revol_bal: integer (nullable = true)\n",
      " |-- revol_util: double (nullable = true)\n",
      " |-- total_acc: integer (nullable = true)\n",
      " |-- last_credit_pull_d: string (nullable = true)\n",
      "\n"
     ]
    }
   ],
   "source": [
    "final_df.printSchema()"
   ]
  },
  {
   "cell_type": "code",
   "execution_count": null,
   "metadata": {
    "collapsed": true
   },
   "outputs": [],
   "source": []
  },
  {
   "cell_type": "code",
   "execution_count": null,
   "metadata": {
    "collapsed": true
   },
   "outputs": [],
   "source": []
  },
  {
   "cell_type": "code",
   "execution_count": null,
   "metadata": {
    "collapsed": true
   },
   "outputs": [],
   "source": []
  }
 ],
 "metadata": {
  "anaconda-cloud": {},
  "kernelspec": {
   "display_name": "Python 3",
   "language": "python",
   "name": "python3"
  },
  "language_info": {
   "codemirror_mode": {
    "name": "ipython",
    "version": 3
   },
   "file_extension": ".py",
   "mimetype": "text/x-python",
   "name": "python",
   "nbconvert_exporter": "python",
   "pygments_lexer": "ipython3",
   "version": "3.6.1"
  }
 },
 "nbformat": 4,
 "nbformat_minor": 1
}
